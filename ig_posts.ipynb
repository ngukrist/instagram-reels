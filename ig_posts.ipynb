{
 "cells": [
  {
   "cell_type": "code",
   "execution_count": null,
   "id": "0580567a-4413-4f83-8eb9-e8810ad9f06c",
   "metadata": {},
   "outputs": [],
   "source": [
    "# imports\n",
    "import pandas as pd\n",
    "import pathlib\n",
    "import json"
   ]
  },
  {
   "cell_type": "code",
   "execution_count": null,
   "id": "4f93a535-1ac7-4c10-9ad0-c3b697ad7c9c",
   "metadata": {},
   "outputs": [],
   "source": [
    "# read in raw data, downloaded direct messages from instagram, path to folder of folders where each contains the messages between the user and other users/groupchats\n",
    "msgs = pathlib.Path(\"ig2024/messages\")"
   ]
  },
  {
   "cell_type": "code",
   "execution_count": null,
   "id": "6e46431e-3465-4379-89bf-80dabf19e83c",
   "metadata": {},
   "outputs": [],
   "source": [
    "# declare empty dataframe\n",
    "reel_data = pd.DataFrame()"
   ]
  },
  {
   "cell_type": "code",
   "execution_count": null,
   "id": "83f95ab3-0ee4-4095-96dc-719a7e743a00",
   "metadata": {},
   "outputs": [
    {
     "name": "stdout",
     "output_type": "stream",
     "text": [
      "                                      person            sender_name  \\\n",
      "0                 drakeoaks_1286822379385550             Drake Oaks   \n",
      "1                 drakeoaks_1286822379385550             Drake Oaks   \n",
      "68    honeygreenmilkteaboba_1177352110328406  honeygreenmilkteaboba   \n",
      "0                    lichat_1100965877971202               Licha T.   \n",
      "2                    lichat_1100965877971202       ðkristinað¦   \n",
      "...                                      ...                    ...   \n",
      "9986                kewl_kev_454535175947162               kewl_kev   \n",
      "9991                kewl_kev_454535175947162               kewl_kev   \n",
      "9992                kewl_kev_454535175947162               kewl_kev   \n",
      "9997                kewl_kev_454535175947162               kewl_kev   \n",
      "9999                kewl_kev_454535175947162               kewl_kev   \n",
      "\n",
      "       timestamp_ms  \n",
      "0     1712611402148  \n",
      "1     1709150466859  \n",
      "68    1717399746079  \n",
      "0     1708914298138  \n",
      "2     1708890033836  \n",
      "...             ...  \n",
      "9986  1715038585644  \n",
      "9991  1715029565476  \n",
      "9992  1715028724656  \n",
      "9997  1715026597120  \n",
      "9999  1715026523558  \n",
      "\n",
      "[5439 rows x 3 columns]\n"
     ]
    }
   ],
   "source": [
    "# format data into a dataframe\n",
    "for msg in msgs.rglob(\"*/message_1.json\"):\n",
    "    with open(msg) as person:\n",
    "        data = json.load(person)\n",
    "        df = pd.DataFrame(data['messages'])\n",
    "        if 'share' in df.columns:\n",
    "            df = (df[(df['share'].apply(str).str.contains('instagram.com/reel/')) |\n",
    "                  (df['share'].apply(str).str.contains('instagram.com/p/'))]\n",
    "                  .assign(person = str(msg).split('/')[3])\n",
    "                  [['person', 'sender_name', 'timestamp_ms']])\n",
    "            reel_data = pd.concat([reel_data, df])\n",
    "print(reel_data)"
   ]
  },
  {
   "cell_type": "code",
   "execution_count": null,
   "id": "235b27d7-bd12-4bb9-9e17-581cbaab2c84",
   "metadata": {},
   "outputs": [],
   "source": [
    "# convert timestamp to year-month\n",
    "import datetime as dt\n",
    "reel_data = reel_data.assign(time = (reel_data['timestamp_ms']/1000).apply(dt.datetime.fromtimestamp)).drop(columns=['timestamp_ms'])\n",
    "reel_data = reel_data.reset_index(drop=True)\n",
    "timed_reels = reel_data.assign(time = [str(t)[:7] for t in reel_data['time']])"
   ]
  },
  {
   "cell_type": "code",
   "execution_count": null,
   "id": "42d41ea6-f98f-49c7-965c-b347fc45f6df",
   "metadata": {},
   "outputs": [
    {
     "data": {
      "text/html": [
       "<div>\n",
       "<style scoped>\n",
       "    .dataframe tbody tr th:only-of-type {\n",
       "        vertical-align: middle;\n",
       "    }\n",
       "\n",
       "    .dataframe tbody tr th {\n",
       "        vertical-align: top;\n",
       "    }\n",
       "\n",
       "    .dataframe thead th {\n",
       "        text-align: right;\n",
       "    }\n",
       "</style>\n",
       "<table border=\"1\" class=\"dataframe\">\n",
       "  <thead>\n",
       "    <tr style=\"text-align: right;\">\n",
       "      <th></th>\n",
       "      <th>person</th>\n",
       "      <th>sender_name</th>\n",
       "      <th>time</th>\n",
       "    </tr>\n",
       "  </thead>\n",
       "  <tbody>\n",
       "    <tr>\n",
       "      <th>0</th>\n",
       "      <td>drakeoaks_1286822379385550</td>\n",
       "      <td>Drake Oaks</td>\n",
       "      <td>2024-04</td>\n",
       "    </tr>\n",
       "    <tr>\n",
       "      <th>1</th>\n",
       "      <td>drakeoaks_1286822379385550</td>\n",
       "      <td>Drake Oaks</td>\n",
       "      <td>2024-02</td>\n",
       "    </tr>\n",
       "    <tr>\n",
       "      <th>2</th>\n",
       "      <td>honeygreenmilkteaboba_1177352110328406</td>\n",
       "      <td>honeygreenmilkteaboba</td>\n",
       "      <td>2024-06</td>\n",
       "    </tr>\n",
       "    <tr>\n",
       "      <th>3</th>\n",
       "      <td>lichat_1100965877971202</td>\n",
       "      <td>Licha T.</td>\n",
       "      <td>2024-02</td>\n",
       "    </tr>\n",
       "    <tr>\n",
       "      <th>4</th>\n",
       "      <td>lichat_1100965877971202</td>\n",
       "      <td>ðkristinað¦</td>\n",
       "      <td>2024-02</td>\n",
       "    </tr>\n",
       "    <tr>\n",
       "      <th>...</th>\n",
       "      <td>...</td>\n",
       "      <td>...</td>\n",
       "      <td>...</td>\n",
       "    </tr>\n",
       "    <tr>\n",
       "      <th>5434</th>\n",
       "      <td>kewl_kev_454535175947162</td>\n",
       "      <td>kewl_kev</td>\n",
       "      <td>2024-05</td>\n",
       "    </tr>\n",
       "    <tr>\n",
       "      <th>5435</th>\n",
       "      <td>kewl_kev_454535175947162</td>\n",
       "      <td>kewl_kev</td>\n",
       "      <td>2024-05</td>\n",
       "    </tr>\n",
       "    <tr>\n",
       "      <th>5436</th>\n",
       "      <td>kewl_kev_454535175947162</td>\n",
       "      <td>kewl_kev</td>\n",
       "      <td>2024-05</td>\n",
       "    </tr>\n",
       "    <tr>\n",
       "      <th>5437</th>\n",
       "      <td>kewl_kev_454535175947162</td>\n",
       "      <td>kewl_kev</td>\n",
       "      <td>2024-05</td>\n",
       "    </tr>\n",
       "    <tr>\n",
       "      <th>5438</th>\n",
       "      <td>kewl_kev_454535175947162</td>\n",
       "      <td>kewl_kev</td>\n",
       "      <td>2024-05</td>\n",
       "    </tr>\n",
       "  </tbody>\n",
       "</table>\n",
       "<p>5439 rows × 3 columns</p>\n",
       "</div>"
      ],
      "text/plain": [
       "                                      person            sender_name     time\n",
       "0                 drakeoaks_1286822379385550             Drake Oaks  2024-04\n",
       "1                 drakeoaks_1286822379385550             Drake Oaks  2024-02\n",
       "2     honeygreenmilkteaboba_1177352110328406  honeygreenmilkteaboba  2024-06\n",
       "3                    lichat_1100965877971202               Licha T.  2024-02\n",
       "4                    lichat_1100965877971202       ðkristinað¦  2024-02\n",
       "...                                      ...                    ...      ...\n",
       "5434                kewl_kev_454535175947162               kewl_kev  2024-05\n",
       "5435                kewl_kev_454535175947162               kewl_kev  2024-05\n",
       "5436                kewl_kev_454535175947162               kewl_kev  2024-05\n",
       "5437                kewl_kev_454535175947162               kewl_kev  2024-05\n",
       "5438                kewl_kev_454535175947162               kewl_kev  2024-05\n",
       "\n",
       "[5439 rows x 3 columns]"
      ]
     },
     "execution_count": 10,
     "metadata": {},
     "output_type": "execute_result"
    }
   ],
   "source": [
    "# cleaned dataframe, download to device\n",
    "timed_reels.to_csv('reel_data.csv')\n",
    "timed_reels"
   ]
  },
  {
   "cell_type": "code",
   "execution_count": null,
   "id": "142ab04a",
   "metadata": {},
   "outputs": [],
   "source": []
  }
 ],
 "metadata": {
  "kernelspec": {
   "display_name": "Python 3 (ipykernel)",
   "language": "python",
   "name": "python3"
  },
  "language_info": {
   "codemirror_mode": {
    "name": "ipython",
    "version": 3
   },
   "file_extension": ".py",
   "mimetype": "text/x-python",
   "name": "python",
   "nbconvert_exporter": "python",
   "pygments_lexer": "ipython3",
   "version": "3.10.14"
  }
 },
 "nbformat": 4,
 "nbformat_minor": 5
}
