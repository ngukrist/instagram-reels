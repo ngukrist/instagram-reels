{
 "cells": [
  {
   "cell_type": "code",
   "execution_count": null,
   "id": "0580567a-4413-4f83-8eb9-e8810ad9f06c",
   "metadata": {},
   "outputs": [],
   "source": [
    "# imports\n",
    "import pandas as pd\n",
    "import pathlib\n",
    "import json"
   ]
  },
  {
   "cell_type": "code",
   "execution_count": null,
   "id": "4f93a535-1ac7-4c10-9ad0-c3b697ad7c9c",
   "metadata": {},
   "outputs": [],
   "source": [
    "# read in raw data, downloaded direct messages from instagram, path to folder of folders where each contains the messages between the user and other users/groupchats\n",
    "msgs = pathlib.Path(\"ig2024/messages\")"
   ]
  },
  {
   "cell_type": "code",
   "execution_count": null,
   "id": "6e46431e-3465-4379-89bf-80dabf19e83c",
   "metadata": {},
   "outputs": [],
   "source": [
    "# declare empty dataframe\n",
    "reel_data = pd.DataFrame()"
   ]
  },
  {
   "cell_type": "code",
   "execution_count": null,
   "id": "83f95ab3-0ee4-4095-96dc-719a7e743a00",
   "metadata": {},
   "outputs": [],
   "source": [
    "# format data into a dataframe\n",
    "for msg in msgs.rglob(\"*/message_1.json\"):\n",
    "    with open(msg) as person:\n",
    "        data = json.load(person)\n",
    "        df = pd.DataFrame(data['messages'])\n",
    "        if 'share' in df.columns:\n",
    "            df = (df[(df['share'].apply(str).str.contains('instagram.com/reel/')) |\n",
    "                  (df['share'].apply(str).str.contains('instagram.com/p/'))]\n",
    "                  .assign(person = str(msg).split('/')[3])\n",
    "                  [['person', 'sender_name', 'timestamp_ms']])\n",
    "            reel_data = pd.concat([reel_data, df])\n",
    "print(reel_data)"
   ]
  },
  {
   "cell_type": "code",
   "execution_count": null,
   "id": "235b27d7-bd12-4bb9-9e17-581cbaab2c84",
   "metadata": {},
   "outputs": [],
   "source": [
    "# convert timestamp to year-month\n",
    "import datetime as dt\n",
    "reel_data = reel_data.assign(time = (reel_data['timestamp_ms']/1000).apply(dt.datetime.fromtimestamp)).drop(columns=['timestamp_ms'])\n",
    "reel_data = reel_data.reset_index(drop=True)\n",
    "timed_reels = reel_data.assign(time = [str(t)[:7] for t in reel_data['time']])"
   ]
  },
  {
   "cell_type": "code",
   "execution_count": null,
   "id": "42d41ea6-f98f-49c7-965c-b347fc45f6df",
   "metadata": {},
   "outputs": [],
   "source": [
    "# cleaned dataframe, download to device\n",
    "timed_reels.to_csv('reel_data.csv')\n",
    "timed_reels"
   ]
  },
  {
   "cell_type": "code",
   "execution_count": null,
   "id": "142ab04a",
   "metadata": {},
   "outputs": [],
   "source": []
  }
 ],
 "metadata": {
  "kernelspec": {
   "display_name": "Python 3 (ipykernel)",
   "language": "python",
   "name": "python3"
  },
  "language_info": {
   "codemirror_mode": {
    "name": "ipython",
    "version": 3
   },
   "file_extension": ".py",
   "mimetype": "text/x-python",
   "name": "python",
   "nbconvert_exporter": "python",
   "pygments_lexer": "ipython3",
   "version": "3.10.14"
  }
 },
 "nbformat": 4,
 "nbformat_minor": 5
}
